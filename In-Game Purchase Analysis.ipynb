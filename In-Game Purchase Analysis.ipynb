{
 "cells": [
  {
   "cell_type": "markdown",
   "metadata": {},
   "source": [
    "# In-Game_Purchase_Analysis"
   ]
  },
  {
   "cell_type": "markdown",
   "metadata": {},
   "source": [
    "![Video Game Image](images/Fantasy.jpg)"
   ]
  },
  {
   "cell_type": "markdown",
   "metadata": {},
   "source": [
    "Many online games are free-to-play, but allow for in-game purchases of special abilities or items. Here, a mock dataset of in-game purchases and user profiles can be found in the input_data folder of this repo. In order to tailor marketing efforts and to optimize the game for revenue generation, this dataset of in-game purchases and corresponding user demographics is analyzed below to uncover trends.\n",
    "## Goals:\n",
    "Data will be analyzed using PANDAS and matplotlib to generate a report.\n",
    "### Important Metrics to Calculate:\n",
    "#### Player Count\n",
    "\n",
    " - Total Number of Players\n",
    "\n",
    "\n",
    "#### Purchasing Analysis (Total)\n",
    "\n",
    "\n",
    " - Number of Unique Items\n",
    " - Average Purchase Price\n",
    " - Total Number of Purchases\n",
    " - Total Revenue\n",
    "\n",
    "\n",
    "#### Gender Demographics\n",
    "\n",
    "\n",
    " - Percentage and Count of Male Players\n",
    " - Percentage and Count of Female Players\n",
    " - Percentage and Count of Other / Non-Disclosed\n",
    "\n",
    "\n",
    "#### Purchasing Analysis (Gender) \n",
    "\n",
    "\n",
    "The below each broken by gender\n",
    "\n",
    "\n",
    " - Purchase Count\n",
    " - Average Purchase Price\n",
    " - Total Purchase Value\n",
    " - Normalized Totals\n",
    "\n",
    "\n",
    "\n",
    "\n",
    "#### Age Demographics\n",
    "\n",
    "\n",
    "The below each broken into bins of 4 years (i.e. <10, 10-14, 15-19, etc.) \n",
    "\n",
    "\n",
    " - Purchase Count\n",
    " - Average Purchase Price\n",
    " - Total Purchase Value\n",
    " - Normalized Totals\n",
    "\n",
    "\n",
    "\n",
    "\n",
    "#### Top Spenders\n",
    "\n",
    "\n",
    "Identify the the top 5 spenders in the game by total purchase value, then list (in a table):\n",
    "\n",
    "\n",
    " - SN\n",
    " - Purchase Count\n",
    " - Average Purchase Price\n",
    " - Total Purchase Value\n",
    "\n",
    "\n",
    "\n",
    "\n",
    "#### Most Popular Items\n",
    "\n",
    "\n",
    "Identify the 5 most popular items by purchase count, then list (in a table):\n",
    "\n",
    "\n",
    " - Item ID\n",
    " - Item Name\n",
    " - Purchase Count\n",
    " - Item Price\n",
    " - Total Purchase Value\n",
    "\n",
    "\n",
    "\n",
    "\n",
    "#### Most Profitable Items\n",
    "\n",
    "\n",
    "Identify the 5 most profitable items by total purchase value, then list (in a table):\n",
    "\n",
    "\n",
    " - Item ID\n",
    " - Item Name\n",
    " - Purchase Count\n",
    " - Item Price\n",
    " - Total Purchase Value\n",
    "\n",
    "### We will also:\n",
    "\n",
    " - Ensure the script works for multiple datasets\n",
    " - Include an exported markdown version of the notebook, called README.md in the repo\n",
    " - Include a written description of three observable trends based on the data"
   ]
  },
  {
   "cell_type": "markdown",
   "metadata": {},
   "source": [
    "# Analysis"
   ]
  },
  {
   "cell_type": "markdown",
   "metadata": {},
   "source": [
    "## Exploration"
   ]
  },
  {
   "cell_type": "markdown",
   "metadata": {},
   "source": [
    "### Import dependencies:"
   ]
  },
  {
   "cell_type": "code",
   "execution_count": 1,
   "metadata": {},
   "outputs": [],
   "source": [
    "import pandas as pd\n",
    "import numpy as np\n",
    "import matplotlib.pyplot as plt"
   ]
  },
  {
   "cell_type": "markdown",
   "metadata": {},
   "source": [
    "### Load .json files into pandas DataFrames"
   ]
  },
  {
   "cell_type": "code",
   "execution_count": 2,
   "metadata": {},
   "outputs": [],
   "source": [
    "json1 = pd.read_json('inputfiles/purchase_data.json')\n",
    "json2 = pd.read_json('inputfiles/purchase_data2.json')\n",
    "df1 = pd.DataFrame(json1)\n",
    "df2 = pd.DataFrame(json2)"
   ]
  },
  {
   "cell_type": "markdown",
   "metadata": {},
   "source": [
    "### Explore data"
   ]
  },
  {
   "cell_type": "code",
   "execution_count": 3,
   "metadata": {},
   "outputs": [
    {
     "data": {
      "text/html": [
       "<div>\n",
       "<style scoped>\n",
       "    .dataframe tbody tr th:only-of-type {\n",
       "        vertical-align: middle;\n",
       "    }\n",
       "\n",
       "    .dataframe tbody tr th {\n",
       "        vertical-align: top;\n",
       "    }\n",
       "\n",
       "    .dataframe thead th {\n",
       "        text-align: right;\n",
       "    }\n",
       "</style>\n",
       "<table border=\"1\" class=\"dataframe\">\n",
       "  <thead>\n",
       "    <tr style=\"text-align: right;\">\n",
       "      <th></th>\n",
       "      <th>Age</th>\n",
       "      <th>Gender</th>\n",
       "      <th>Item ID</th>\n",
       "      <th>Item Name</th>\n",
       "      <th>Price</th>\n",
       "      <th>SN</th>\n",
       "    </tr>\n",
       "  </thead>\n",
       "  <tbody>\n",
       "    <tr>\n",
       "      <th>0</th>\n",
       "      <td>38</td>\n",
       "      <td>Male</td>\n",
       "      <td>165</td>\n",
       "      <td>Bone Crushing Silver Skewer</td>\n",
       "      <td>3.37</td>\n",
       "      <td>Aelalis34</td>\n",
       "    </tr>\n",
       "    <tr>\n",
       "      <th>1</th>\n",
       "      <td>21</td>\n",
       "      <td>Male</td>\n",
       "      <td>119</td>\n",
       "      <td>Stormbringer, Dark Blade of Ending Misery</td>\n",
       "      <td>2.32</td>\n",
       "      <td>Eolo46</td>\n",
       "    </tr>\n",
       "    <tr>\n",
       "      <th>2</th>\n",
       "      <td>34</td>\n",
       "      <td>Male</td>\n",
       "      <td>174</td>\n",
       "      <td>Primitive Blade</td>\n",
       "      <td>2.46</td>\n",
       "      <td>Assastnya25</td>\n",
       "    </tr>\n",
       "    <tr>\n",
       "      <th>3</th>\n",
       "      <td>21</td>\n",
       "      <td>Male</td>\n",
       "      <td>92</td>\n",
       "      <td>Final Critic</td>\n",
       "      <td>1.36</td>\n",
       "      <td>Pheusrical25</td>\n",
       "    </tr>\n",
       "    <tr>\n",
       "      <th>4</th>\n",
       "      <td>23</td>\n",
       "      <td>Male</td>\n",
       "      <td>63</td>\n",
       "      <td>Stormfury Mace</td>\n",
       "      <td>1.27</td>\n",
       "      <td>Aela59</td>\n",
       "    </tr>\n",
       "  </tbody>\n",
       "</table>\n",
       "</div>"
      ],
      "text/plain": [
       "   Age Gender  Item ID                                  Item Name  Price  \\\n",
       "0   38   Male      165                Bone Crushing Silver Skewer   3.37   \n",
       "1   21   Male      119  Stormbringer, Dark Blade of Ending Misery   2.32   \n",
       "2   34   Male      174                            Primitive Blade   2.46   \n",
       "3   21   Male       92                               Final Critic   1.36   \n",
       "4   23   Male       63                             Stormfury Mace   1.27   \n",
       "\n",
       "             SN  \n",
       "0     Aelalis34  \n",
       "1        Eolo46  \n",
       "2   Assastnya25  \n",
       "3  Pheusrical25  \n",
       "4        Aela59  "
      ]
     },
     "execution_count": 3,
     "metadata": {},
     "output_type": "execute_result"
    }
   ],
   "source": [
    "df1.head()\n"
   ]
  },
  {
   "cell_type": "code",
   "execution_count": 4,
   "metadata": {},
   "outputs": [
    {
     "data": {
      "text/plain": [
       "Age            int64\n",
       "Gender        object\n",
       "Item ID        int64\n",
       "Item Name     object\n",
       "Price        float64\n",
       "SN            object\n",
       "dtype: object"
      ]
     },
     "execution_count": 4,
     "metadata": {},
     "output_type": "execute_result"
    }
   ],
   "source": [
    "df1.dtypes"
   ]
  },
  {
   "cell_type": "code",
   "execution_count": 5,
   "metadata": {},
   "outputs": [
    {
     "data": {
      "text/html": [
       "<div>\n",
       "<style scoped>\n",
       "    .dataframe tbody tr th:only-of-type {\n",
       "        vertical-align: middle;\n",
       "    }\n",
       "\n",
       "    .dataframe tbody tr th {\n",
       "        vertical-align: top;\n",
       "    }\n",
       "\n",
       "    .dataframe thead th {\n",
       "        text-align: right;\n",
       "    }\n",
       "</style>\n",
       "<table border=\"1\" class=\"dataframe\">\n",
       "  <thead>\n",
       "    <tr style=\"text-align: right;\">\n",
       "      <th></th>\n",
       "      <th>Age</th>\n",
       "      <th>Gender</th>\n",
       "      <th>Item ID</th>\n",
       "      <th>Item Name</th>\n",
       "      <th>Price</th>\n",
       "      <th>SN</th>\n",
       "    </tr>\n",
       "  </thead>\n",
       "  <tbody>\n",
       "    <tr>\n",
       "      <th>0</th>\n",
       "      <td>20</td>\n",
       "      <td>Male</td>\n",
       "      <td>93</td>\n",
       "      <td>Apocalyptic Battlescythe</td>\n",
       "      <td>4.49</td>\n",
       "      <td>Iloni35</td>\n",
       "    </tr>\n",
       "    <tr>\n",
       "      <th>1</th>\n",
       "      <td>21</td>\n",
       "      <td>Male</td>\n",
       "      <td>12</td>\n",
       "      <td>Dawne</td>\n",
       "      <td>3.36</td>\n",
       "      <td>Aidaira26</td>\n",
       "    </tr>\n",
       "    <tr>\n",
       "      <th>2</th>\n",
       "      <td>17</td>\n",
       "      <td>Male</td>\n",
       "      <td>5</td>\n",
       "      <td>Putrid Fan</td>\n",
       "      <td>2.63</td>\n",
       "      <td>Irim47</td>\n",
       "    </tr>\n",
       "    <tr>\n",
       "      <th>3</th>\n",
       "      <td>17</td>\n",
       "      <td>Male</td>\n",
       "      <td>123</td>\n",
       "      <td>Twilight's Carver</td>\n",
       "      <td>2.55</td>\n",
       "      <td>Irith83</td>\n",
       "    </tr>\n",
       "    <tr>\n",
       "      <th>4</th>\n",
       "      <td>22</td>\n",
       "      <td>Male</td>\n",
       "      <td>154</td>\n",
       "      <td>Feral Katana</td>\n",
       "      <td>4.11</td>\n",
       "      <td>Philodil43</td>\n",
       "    </tr>\n",
       "  </tbody>\n",
       "</table>\n",
       "</div>"
      ],
      "text/plain": [
       "   Age Gender  Item ID                 Item Name  Price          SN\n",
       "0   20   Male       93  Apocalyptic Battlescythe   4.49     Iloni35\n",
       "1   21   Male       12                     Dawne   3.36   Aidaira26\n",
       "2   17   Male        5                Putrid Fan   2.63      Irim47\n",
       "3   17   Male      123         Twilight's Carver   2.55     Irith83\n",
       "4   22   Male      154              Feral Katana   4.11  Philodil43"
      ]
     },
     "execution_count": 5,
     "metadata": {},
     "output_type": "execute_result"
    }
   ],
   "source": [
    "df2.head()"
   ]
  },
  {
   "cell_type": "code",
   "execution_count": 6,
   "metadata": {},
   "outputs": [
    {
     "data": {
      "text/plain": [
       "Age            int64\n",
       "Gender        object\n",
       "Item ID        int64\n",
       "Item Name     object\n",
       "Price        float64\n",
       "SN            object\n",
       "dtype: object"
      ]
     },
     "execution_count": 6,
     "metadata": {},
     "output_type": "execute_result"
    }
   ],
   "source": [
    "df2.dtypes"
   ]
  },
  {
   "cell_type": "markdown",
   "metadata": {},
   "source": [
    "## Concatenate datasets\n",
    "### Why:\n",
    "\n",
    "- Datasets have the same column names\n",
    "- Rows are not in any particular order\n",
    "- Datatypes for each column are identical across the two datasets\n",
    "- No information to differentiate the two, such as year or location\n",
    "- Want to have more accurate analysis, with larger sample"
   ]
  },
  {
   "cell_type": "code",
   "execution_count": 7,
   "metadata": {},
   "outputs": [],
   "source": [
    "frames = [df1, df2]"
   ]
  },
  {
   "cell_type": "code",
   "execution_count": 8,
   "metadata": {},
   "outputs": [
    {
     "data": {
      "text/html": [
       "<div>\n",
       "<style scoped>\n",
       "    .dataframe tbody tr th:only-of-type {\n",
       "        vertical-align: middle;\n",
       "    }\n",
       "\n",
       "    .dataframe tbody tr th {\n",
       "        vertical-align: top;\n",
       "    }\n",
       "\n",
       "    .dataframe thead th {\n",
       "        text-align: right;\n",
       "    }\n",
       "</style>\n",
       "<table border=\"1\" class=\"dataframe\">\n",
       "  <thead>\n",
       "    <tr style=\"text-align: right;\">\n",
       "      <th></th>\n",
       "      <th>Age</th>\n",
       "      <th>Gender</th>\n",
       "      <th>Item ID</th>\n",
       "      <th>Item Name</th>\n",
       "      <th>Price</th>\n",
       "      <th>SN</th>\n",
       "    </tr>\n",
       "  </thead>\n",
       "  <tbody>\n",
       "    <tr>\n",
       "      <th>0</th>\n",
       "      <td>38</td>\n",
       "      <td>Male</td>\n",
       "      <td>165</td>\n",
       "      <td>Bone Crushing Silver Skewer</td>\n",
       "      <td>3.37</td>\n",
       "      <td>Aelalis34</td>\n",
       "    </tr>\n",
       "    <tr>\n",
       "      <th>1</th>\n",
       "      <td>21</td>\n",
       "      <td>Male</td>\n",
       "      <td>119</td>\n",
       "      <td>Stormbringer, Dark Blade of Ending Misery</td>\n",
       "      <td>2.32</td>\n",
       "      <td>Eolo46</td>\n",
       "    </tr>\n",
       "    <tr>\n",
       "      <th>2</th>\n",
       "      <td>34</td>\n",
       "      <td>Male</td>\n",
       "      <td>174</td>\n",
       "      <td>Primitive Blade</td>\n",
       "      <td>2.46</td>\n",
       "      <td>Assastnya25</td>\n",
       "    </tr>\n",
       "    <tr>\n",
       "      <th>3</th>\n",
       "      <td>21</td>\n",
       "      <td>Male</td>\n",
       "      <td>92</td>\n",
       "      <td>Final Critic</td>\n",
       "      <td>1.36</td>\n",
       "      <td>Pheusrical25</td>\n",
       "    </tr>\n",
       "    <tr>\n",
       "      <th>4</th>\n",
       "      <td>23</td>\n",
       "      <td>Male</td>\n",
       "      <td>63</td>\n",
       "      <td>Stormfury Mace</td>\n",
       "      <td>1.27</td>\n",
       "      <td>Aela59</td>\n",
       "    </tr>\n",
       "  </tbody>\n",
       "</table>\n",
       "</div>"
      ],
      "text/plain": [
       "   Age Gender  Item ID                                  Item Name  Price  \\\n",
       "0   38   Male      165                Bone Crushing Silver Skewer   3.37   \n",
       "1   21   Male      119  Stormbringer, Dark Blade of Ending Misery   2.32   \n",
       "2   34   Male      174                            Primitive Blade   2.46   \n",
       "3   21   Male       92                               Final Critic   1.36   \n",
       "4   23   Male       63                             Stormfury Mace   1.27   \n",
       "\n",
       "             SN  \n",
       "0     Aelalis34  \n",
       "1        Eolo46  \n",
       "2   Assastnya25  \n",
       "3  Pheusrical25  \n",
       "4        Aela59  "
      ]
     },
     "execution_count": 8,
     "metadata": {},
     "output_type": "execute_result"
    }
   ],
   "source": [
    "alldata = pd.concat(frames)\n",
    "alldata.head()"
   ]
  },
  {
   "cell_type": "markdown",
   "metadata": {},
   "source": [
    "## Player Count:"
   ]
  },
  {
   "cell_type": "code",
   "execution_count": 9,
   "metadata": {},
   "outputs": [
    {
     "data": {
      "text/plain": [
       "612"
      ]
     },
     "execution_count": 9,
     "metadata": {},
     "output_type": "execute_result"
    }
   ],
   "source": [
    "alldata.SN.nunique()"
   ]
  },
  {
   "cell_type": "markdown",
   "metadata": {},
   "source": [
    "#### Or as a data frame:"
   ]
  },
  {
   "cell_type": "code",
   "execution_count": 10,
   "metadata": {},
   "outputs": [
    {
     "data": {
      "text/html": [
       "<div>\n",
       "<style scoped>\n",
       "    .dataframe tbody tr th:only-of-type {\n",
       "        vertical-align: middle;\n",
       "    }\n",
       "\n",
       "    .dataframe tbody tr th {\n",
       "        vertical-align: top;\n",
       "    }\n",
       "\n",
       "    .dataframe thead th {\n",
       "        text-align: right;\n",
       "    }\n",
       "</style>\n",
       "<table border=\"1\" class=\"dataframe\">\n",
       "  <thead>\n",
       "    <tr style=\"text-align: right;\">\n",
       "      <th></th>\n",
       "      <th>Total Players</th>\n",
       "    </tr>\n",
       "  </thead>\n",
       "  <tbody>\n",
       "    <tr>\n",
       "      <th>0</th>\n",
       "      <td>612</td>\n",
       "    </tr>\n",
       "  </tbody>\n",
       "</table>\n",
       "</div>"
      ],
      "text/plain": [
       "   Total Players\n",
       "0            612"
      ]
     },
     "execution_count": 10,
     "metadata": {},
     "output_type": "execute_result"
    }
   ],
   "source": [
    "playercount = pd.DataFrame({'Total Players': alldata.SN.nunique()}, index=[0])\n",
    "playercount"
   ]
  },
  {
   "cell_type": "markdown",
   "metadata": {},
   "source": [
    "## Purchasing Analysis (Total)"
   ]
  },
  {
   "cell_type": "code",
   "execution_count": 11,
   "metadata": {},
   "outputs": [
    {
     "data": {
      "text/html": [
       "<style  type=\"text/css\" >\n",
       "</style>  \n",
       "<table id=\"T_9d789db4_daf3_11e7_9e2b_a0999b1e5b83\" > \n",
       "<thead>    <tr> \n",
       "        <th class=\"blank level0\" ></th> \n",
       "        <th class=\"col_heading level0 col0\" >Average Purchase Price</th> \n",
       "        <th class=\"col_heading level0 col1\" >Number of Unique Items</th> \n",
       "        <th class=\"col_heading level0 col2\" >Total Number of Purchases</th> \n",
       "        <th class=\"col_heading level0 col3\" >Total Revenue</th> \n",
       "    </tr></thead> \n",
       "<tbody>    <tr> \n",
       "        <th id=\"T_9d789db4_daf3_11e7_9e2b_a0999b1e5b83level0_row0\" class=\"row_heading level0 row0\" >0</th> \n",
       "        <td id=\"T_9d789db4_daf3_11e7_9e2b_a0999b1e5b83row0_col0\" class=\"data row0 col0\" >$2.93</td> \n",
       "        <td id=\"T_9d789db4_daf3_11e7_9e2b_a0999b1e5b83row0_col1\" class=\"data row0 col1\" >184</td> \n",
       "        <td id=\"T_9d789db4_daf3_11e7_9e2b_a0999b1e5b83row0_col2\" class=\"data row0 col2\" >858</td> \n",
       "        <td id=\"T_9d789db4_daf3_11e7_9e2b_a0999b1e5b83row0_col3\" class=\"data row0 col3\" >$2,514.43</td> \n",
       "    </tr></tbody> \n",
       "</table> "
      ],
      "text/plain": [
       "<pandas.io.formats.style.Styler at 0x11046a240>"
      ]
     },
     "execution_count": 11,
     "metadata": {},
     "output_type": "execute_result"
    }
   ],
   "source": [
    "purchasing_analysis = pd.DataFrame({'Number of Unique Items': alldata['Item ID'].nunique(),\n",
    "                                   'Average Purchase Price': alldata['Price'].mean(),\n",
    "                                   'Total Number of Purchases': len(alldata.index),\n",
    "                                   'Total Revenue': alldata['Price'].sum()},\n",
    "                                   index=[0])\n",
    "\n",
    "purchasing_analysis = purchasing_analysis.style.format({'Average Purchase Price': '${:,.2f}',\n",
    "                                                        'Total Revenue': '${:,.2f}'})\n",
    "\n",
    "purchasing_analysis"
   ]
  },
  {
   "cell_type": "markdown",
   "metadata": {},
   "source": [
    "## Gender Demographics"
   ]
  },
  {
   "cell_type": "code",
   "execution_count": 12,
   "metadata": {},
   "outputs": [],
   "source": [
    "gender_grouped = alldata.groupby('Gender')"
   ]
  },
  {
   "cell_type": "code",
   "execution_count": 13,
   "metadata": {},
   "outputs": [],
   "source": [
    "# function creates two dataframes showing the count of each gender, plots one, \n",
    "# and adds percentage column to the other for table display\n",
    "def count_and_proportion(groupbyobj):\n",
    "    \n",
    "    plottable = pd.DataFrame(groupbyobj.Gender.count())\n",
    "    analysis = pd.DataFrame(groupbyobj.Gender.count())\n",
    "    \n",
    "    analysis['Percentage'] = analysis['Gender'] / analysis['Gender'].sum() * 100\n",
    "\n",
    "    analysis_renamed = analysis.rename(columns={'Gender':'Frequency'})\n",
    "\n",
    "    analysis_formatted = analysis_renamed.style.format({'Percentage': '{:.2f}%'})\n",
    "    \n",
    "    plt.clf()\n",
    "    \n",
    "    plottable.plot(kind='bar', facecolor='red', legend=False, rot=0)\n",
    "    \n",
    "    plt.show()\n",
    "    \n",
    "    return analysis_formatted"
   ]
  },
  {
   "cell_type": "code",
   "execution_count": 14,
   "metadata": {},
   "outputs": [
    {
     "data": {
      "text/plain": [
       "<matplotlib.figure.Figure at 0x1104769e8>"
      ]
     },
     "metadata": {},
     "output_type": "display_data"
    },
    {
     "data": {
      "image/png": "[encoded data removed]",
      "text/plain": [
       "<matplotlib.figure.Figure at 0x110491710>"
      ]
     },
     "metadata": {},
     "output_type": "display_data"
    },
    {
     "data": {
      "text/html": [
       "<style  type=\"text/css\" >\n",
       "</style>  \n",
       "<table id=\"T_9da4a268_daf3_11e7_b82c_a0999b1e5b83\" > \n",
       "<thead>    <tr> \n",
       "        <th class=\"blank level0\" ></th> \n",
       "        <th class=\"col_heading level0 col0\" >Frequency</th> \n",
       "        <th class=\"col_heading level0 col1\" >Percentage</th> \n",
       "    </tr>    <tr> \n",
       "        <th class=\"index_name level0\" >Gender</th> \n",
       "        <th class=\"blank\" ></th> \n",
       "        <th class=\"blank\" ></th> \n",
       "    </tr></thead> \n",
       "<tbody>    <tr> \n",
       "        <th id=\"T_9da4a268_daf3_11e7_b82c_a0999b1e5b83level0_row0\" class=\"row_heading level0 row0\" >Female</th> \n",
       "        <td id=\"T_9da4a268_daf3_11e7_b82c_a0999b1e5b83row0_col0\" class=\"data row0 col0\" >149</td> \n",
       "        <td id=\"T_9da4a268_daf3_11e7_b82c_a0999b1e5b83row0_col1\" class=\"data row0 col1\" >17.37%</td> \n",
       "    </tr>    <tr> \n",
       "        <th id=\"T_9da4a268_daf3_11e7_b82c_a0999b1e5b83level0_row1\" class=\"row_heading level0 row1\" >Male</th> \n",
       "        <td id=\"T_9da4a268_daf3_11e7_b82c_a0999b1e5b83row1_col0\" class=\"data row1 col0\" >697</td> \n",
       "        <td id=\"T_9da4a268_daf3_11e7_b82c_a0999b1e5b83row1_col1\" class=\"data row1 col1\" >81.24%</td> \n",
       "    </tr>    <tr> \n",
       "        <th id=\"T_9da4a268_daf3_11e7_b82c_a0999b1e5b83level0_row2\" class=\"row_heading level0 row2\" >Other / Non-Disclosed</th> \n",
       "        <td id=\"T_9da4a268_daf3_11e7_b82c_a0999b1e5b83row2_col0\" class=\"data row2 col0\" >12</td> \n",
       "        <td id=\"T_9da4a268_daf3_11e7_b82c_a0999b1e5b83row2_col1\" class=\"data row2 col1\" >1.40%</td> \n",
       "    </tr></tbody> \n",
       "</table> "
      ],
      "text/plain": [
       "<pandas.io.formats.style.Styler at 0x110476dd8>"
      ]
     },
     "execution_count": 14,
     "metadata": {},
     "output_type": "execute_result"
    }
   ],
   "source": [
    "count_and_proportion(gender_grouped)"
   ]
  },
  {
   "cell_type": "markdown",
   "metadata": {},
   "source": [
    "## Purchasing Analysis (Gender)\n",
    "The below each broken by gender\n",
    " - Purchase Count\n",
    " - Average Purchase Price\n",
    " - Total Purchase Value\n",
    " - Normalized Totals"
   ]
  },
  {
   "cell_type": "code",
   "execution_count": 15,
   "metadata": {},
   "outputs": [],
   "source": [
    "gender_group = alldata.groupby('Gender')"
   ]
  },
  {
   "cell_type": "code",
   "execution_count": 16,
   "metadata": {},
   "outputs": [],
   "source": [
    "# Define function to return this summary type\n",
    "def purchase_summary(groupbyobj):\n",
    "    # Generate dataframe of summaries\n",
    "\n",
    "    results = pd.DataFrame({'Purchase Count': groupbyobj.Price.count(),\n",
    "                               'Average Purchase Price': groupbyobj.Price.mean(),\n",
    "                               'Total Purchase Value': groupbyobj.Price.sum()})\n",
    "\n",
    "    # Add calculated column\n",
    "\n",
    "    results['Normalized Totals'] = results['Total Purchase Value'] / results['Purchase Count']\n",
    "    \n",
    "    return results"
   ]
  },
  {
   "cell_type": "code",
   "execution_count": 17,
   "metadata": {},
   "outputs": [],
   "source": [
    "def format_summary(results):\n",
    "    # Format results\n",
    "    results = results.style.format({'Average Purchase Price': '${:.2f}',\n",
    "                                    'Total Purchase Value': '${:.2f}',\n",
    "                                    'Normalized Totals': '${:.2f}'})\n",
    "    return results"
   ]
  },
  {
   "cell_type": "code",
   "execution_count": 18,
   "metadata": {},
   "outputs": [
    {
     "data": {
      "text/html": [
       "<style  type=\"text/css\" >\n",
       "</style>  \n",
       "<table id=\"T_9da940ca_daf3_11e7_bf5c_a0999b1e5b83\" > \n",
       "<thead>    <tr> \n",
       "        <th class=\"blank level0\" ></th> \n",
       "        <th class=\"col_heading level0 col0\" >Average Purchase Price</th> \n",
       "        <th class=\"col_heading level0 col1\" >Purchase Count</th> \n",
       "        <th class=\"col_heading level0 col2\" >Total Purchase Value</th> \n",
       "        <th class=\"col_heading level0 col3\" >Normalized Totals</th> \n",
       "    </tr>    <tr> \n",
       "        <th class=\"index_name level0\" >Gender</th> \n",
       "        <th class=\"blank\" ></th> \n",
       "        <th class=\"blank\" ></th> \n",
       "        <th class=\"blank\" ></th> \n",
       "        <th class=\"blank\" ></th> \n",
       "    </tr></thead> \n",
       "<tbody>    <tr> \n",
       "        <th id=\"T_9da940ca_daf3_11e7_bf5c_a0999b1e5b83level0_row0\" class=\"row_heading level0 row0\" >Female</th> \n",
       "        <td id=\"T_9da940ca_daf3_11e7_bf5c_a0999b1e5b83row0_col0\" class=\"data row0 col0\" >$2.85</td> \n",
       "        <td id=\"T_9da940ca_daf3_11e7_bf5c_a0999b1e5b83row0_col1\" class=\"data row0 col1\" >149</td> \n",
       "        <td id=\"T_9da940ca_daf3_11e7_bf5c_a0999b1e5b83row0_col2\" class=\"data row0 col2\" >$424.29</td> \n",
       "        <td id=\"T_9da940ca_daf3_11e7_bf5c_a0999b1e5b83row0_col3\" class=\"data row0 col3\" >$2.85</td> \n",
       "    </tr>    <tr> \n",
       "        <th id=\"T_9da940ca_daf3_11e7_bf5c_a0999b1e5b83level0_row1\" class=\"row_heading level0 row1\" >Male</th> \n",
       "        <td id=\"T_9da940ca_daf3_11e7_bf5c_a0999b1e5b83row1_col0\" class=\"data row1 col0\" >$2.94</td> \n",
       "        <td id=\"T_9da940ca_daf3_11e7_bf5c_a0999b1e5b83row1_col1\" class=\"data row1 col1\" >697</td> \n",
       "        <td id=\"T_9da940ca_daf3_11e7_bf5c_a0999b1e5b83row1_col2\" class=\"data row1 col2\" >$2052.28</td> \n",
       "        <td id=\"T_9da940ca_daf3_11e7_bf5c_a0999b1e5b83row1_col3\" class=\"data row1 col3\" >$2.94</td> \n",
       "    </tr>    <tr> \n",
       "        <th id=\"T_9da940ca_daf3_11e7_bf5c_a0999b1e5b83level0_row2\" class=\"row_heading level0 row2\" >Other / Non-Disclosed</th> \n",
       "        <td id=\"T_9da940ca_daf3_11e7_bf5c_a0999b1e5b83row2_col0\" class=\"data row2 col0\" >$3.15</td> \n",
       "        <td id=\"T_9da940ca_daf3_11e7_bf5c_a0999b1e5b83row2_col1\" class=\"data row2 col1\" >12</td> \n",
       "        <td id=\"T_9da940ca_daf3_11e7_bf5c_a0999b1e5b83row2_col2\" class=\"data row2 col2\" >$37.86</td> \n",
       "        <td id=\"T_9da940ca_daf3_11e7_bf5c_a0999b1e5b83row2_col3\" class=\"data row2 col3\" >$3.15</td> \n",
       "    </tr></tbody> \n",
       "</table> "
      ],
      "text/plain": [
       "<pandas.io.formats.style.Styler at 0x1104dd9e8>"
      ]
     },
     "execution_count": 18,
     "metadata": {},
     "output_type": "execute_result"
    }
   ],
   "source": [
    "raw = purchase_summary(gender_group)\n",
    "format_summary(raw)"
   ]
  },
  {
   "cell_type": "markdown",
   "metadata": {},
   "source": [
    "## Age Demographics"
   ]
  },
  {
   "cell_type": "markdown",
   "metadata": {},
   "source": [
    "### Explore Ages"
   ]
  },
  {
   "cell_type": "code",
   "execution_count": 19,
   "metadata": {},
   "outputs": [
    {
     "data": {
      "text/plain": [
       "7"
      ]
     },
     "execution_count": 19,
     "metadata": {},
     "output_type": "execute_result"
    }
   ],
   "source": [
    "alldata.Age.min()"
   ]
  },
  {
   "cell_type": "code",
   "execution_count": 20,
   "metadata": {},
   "outputs": [
    {
     "data": {
      "text/plain": [
       "45"
      ]
     },
     "execution_count": 20,
     "metadata": {},
     "output_type": "execute_result"
    }
   ],
   "source": [
    "alldata.Age.max()"
   ]
  },
  {
   "cell_type": "markdown",
   "metadata": {},
   "source": [
    "### Bin Players By Age Group"
   ]
  },
  {
   "cell_type": "code",
   "execution_count": 21,
   "metadata": {},
   "outputs": [],
   "source": [
    "# Establish bins and labels\n",
    "\n",
    "bins = [0, 9, 14, 19, 24, 29, 34, 39, 200]\n",
    "labels = ['<10',\n",
    "          '10-14',\n",
    "          '15-19',\n",
    "          '20-24',\n",
    "          '25-29',\n",
    "          '30-34',\n",
    "          '35-39',\n",
    "          '40+']\n",
    "\n",
    "# Cut age into bins and create new column with bin group\n",
    "\n",
    "alldata['Age Group'] = pd.cut(alldata['Age'], bins, labels=labels)"
   ]
  },
  {
   "cell_type": "markdown",
   "metadata": {},
   "source": [
    "### Group players by age group to summarize"
   ]
  },
  {
   "cell_type": "code",
   "execution_count": 22,
   "metadata": {},
   "outputs": [],
   "source": [
    "# Group data by age group to prepare for summary\n",
    "age_groupby = alldata.groupby('Age Group')"
   ]
  },
  {
   "cell_type": "code",
   "execution_count": 23,
   "metadata": {},
   "outputs": [
    {
     "data": {
      "text/plain": [
       "<matplotlib.figure.Figure at 0x1104dd390>"
      ]
     },
     "metadata": {},
     "output_type": "display_data"
    },
    {
     "data": {
      "image/png": "[encoded data removed]",
      "text/plain": [
       "<matplotlib.figure.Figure at 0x1104635c0>"
      ]
     },
     "metadata": {},
     "output_type": "display_data"
    },
    {
     "data": {
      "text/html": [
       "<style  type=\"text/css\" >\n",
       "</style>  \n",
       "<table id=\"T_9dc0f8a8_daf3_11e7_af50_a0999b1e5b83\" > \n",
       "<thead>    <tr> \n",
       "        <th class=\"blank level0\" ></th> \n",
       "        <th class=\"col_heading level0 col0\" >Frequency</th> \n",
       "        <th class=\"col_heading level0 col1\" >Percentage</th> \n",
       "    </tr>    <tr> \n",
       "        <th class=\"index_name level0\" >Age Group</th> \n",
       "        <th class=\"blank\" ></th> \n",
       "        <th class=\"blank\" ></th> \n",
       "    </tr></thead> \n",
       "<tbody>    <tr> \n",
       "        <th id=\"T_9dc0f8a8_daf3_11e7_af50_a0999b1e5b83level0_row0\" class=\"row_heading level0 row0\" ><10</th> \n",
       "        <td id=\"T_9dc0f8a8_daf3_11e7_af50_a0999b1e5b83row0_col0\" class=\"data row0 col0\" >33</td> \n",
       "        <td id=\"T_9dc0f8a8_daf3_11e7_af50_a0999b1e5b83row0_col1\" class=\"data row0 col1\" >3.85%</td> \n",
       "    </tr>    <tr> \n",
       "        <th id=\"T_9dc0f8a8_daf3_11e7_af50_a0999b1e5b83level0_row1\" class=\"row_heading level0 row1\" >10-14</th> \n",
       "        <td id=\"T_9dc0f8a8_daf3_11e7_af50_a0999b1e5b83row1_col0\" class=\"data row1 col0\" >38</td> \n",
       "        <td id=\"T_9dc0f8a8_daf3_11e7_af50_a0999b1e5b83row1_col1\" class=\"data row1 col1\" >4.43%</td> \n",
       "    </tr>    <tr> \n",
       "        <th id=\"T_9dc0f8a8_daf3_11e7_af50_a0999b1e5b83level0_row2\" class=\"row_heading level0 row2\" >15-19</th> \n",
       "        <td id=\"T_9dc0f8a8_daf3_11e7_af50_a0999b1e5b83row2_col0\" class=\"data row2 col0\" >144</td> \n",
       "        <td id=\"T_9dc0f8a8_daf3_11e7_af50_a0999b1e5b83row2_col1\" class=\"data row2 col1\" >16.78%</td> \n",
       "    </tr>    <tr> \n",
       "        <th id=\"T_9dc0f8a8_daf3_11e7_af50_a0999b1e5b83level0_row3\" class=\"row_heading level0 row3\" >20-24</th> \n",
       "        <td id=\"T_9dc0f8a8_daf3_11e7_af50_a0999b1e5b83row3_col0\" class=\"data row3 col0\" >372</td> \n",
       "        <td id=\"T_9dc0f8a8_daf3_11e7_af50_a0999b1e5b83row3_col1\" class=\"data row3 col1\" >43.36%</td> \n",
       "    </tr>    <tr> \n",
       "        <th id=\"T_9dc0f8a8_daf3_11e7_af50_a0999b1e5b83level0_row4\" class=\"row_heading level0 row4\" >25-29</th> \n",
       "        <td id=\"T_9dc0f8a8_daf3_11e7_af50_a0999b1e5b83row4_col0\" class=\"data row4 col0\" >134</td> \n",
       "        <td id=\"T_9dc0f8a8_daf3_11e7_af50_a0999b1e5b83row4_col1\" class=\"data row4 col1\" >15.62%</td> \n",
       "    </tr>    <tr> \n",
       "        <th id=\"T_9dc0f8a8_daf3_11e7_af50_a0999b1e5b83level0_row5\" class=\"row_heading level0 row5\" >30-34</th> \n",
       "        <td id=\"T_9dc0f8a8_daf3_11e7_af50_a0999b1e5b83row5_col0\" class=\"data row5 col0\" >71</td> \n",
       "        <td id=\"T_9dc0f8a8_daf3_11e7_af50_a0999b1e5b83row5_col1\" class=\"data row5 col1\" >8.28%</td> \n",
       "    </tr>    <tr> \n",
       "        <th id=\"T_9dc0f8a8_daf3_11e7_af50_a0999b1e5b83level0_row6\" class=\"row_heading level0 row6\" >35-39</th> \n",
       "        <td id=\"T_9dc0f8a8_daf3_11e7_af50_a0999b1e5b83row6_col0\" class=\"data row6 col0\" >48</td> \n",
       "        <td id=\"T_9dc0f8a8_daf3_11e7_af50_a0999b1e5b83row6_col1\" class=\"data row6 col1\" >5.59%</td> \n",
       "    </tr>    <tr> \n",
       "        <th id=\"T_9dc0f8a8_daf3_11e7_af50_a0999b1e5b83level0_row7\" class=\"row_heading level0 row7\" >40+</th> \n",
       "        <td id=\"T_9dc0f8a8_daf3_11e7_af50_a0999b1e5b83row7_col0\" class=\"data row7 col0\" >18</td> \n",
       "        <td id=\"T_9dc0f8a8_daf3_11e7_af50_a0999b1e5b83row7_col1\" class=\"data row7 col1\" >2.10%</td> \n",
       "    </tr></tbody> \n",
       "</table> "
      ],
      "text/plain": [
       "<pandas.io.formats.style.Styler at 0x1104dd5f8>"
      ]
     },
     "execution_count": 23,
     "metadata": {},
     "output_type": "execute_result"
    }
   ],
   "source": [
    "count_and_proportion(age_groupby)"
   ]
  },
  {
   "cell_type": "code",
   "execution_count": 24,
   "metadata": {},
   "outputs": [
    {
     "data": {
      "text/html": [
       "<style  type=\"text/css\" >\n",
       "</style>  \n",
       "<table id=\"T_9dc2c068_daf3_11e7_ac0e_a0999b1e5b83\" > \n",
       "<thead>    <tr> \n",
       "        <th class=\"blank level0\" ></th> \n",
       "        <th class=\"col_heading level0 col0\" >Average Purchase Price</th> \n",
       "        <th class=\"col_heading level0 col1\" >Purchase Count</th> \n",
       "        <th class=\"col_heading level0 col2\" >Total Purchase Value</th> \n",
       "        <th class=\"col_heading level0 col3\" >Normalized Totals</th> \n",
       "    </tr>    <tr> \n",
       "        <th class=\"index_name level0\" >Age Group</th> \n",
       "        <th class=\"blank\" ></th> \n",
       "        <th class=\"blank\" ></th> \n",
       "        <th class=\"blank\" ></th> \n",
       "        <th class=\"blank\" ></th> \n",
       "    </tr></thead> \n",
       "<tbody>    <tr> \n",
       "        <th id=\"T_9dc2c068_daf3_11e7_ac0e_a0999b1e5b83level0_row0\" class=\"row_heading level0 row0\" ><10</th> \n",
       "        <td id=\"T_9dc2c068_daf3_11e7_ac0e_a0999b1e5b83row0_col0\" class=\"data row0 col0\" >$2.95</td> \n",
       "        <td id=\"T_9dc2c068_daf3_11e7_ac0e_a0999b1e5b83row0_col1\" class=\"data row0 col1\" >33</td> \n",
       "        <td id=\"T_9dc2c068_daf3_11e7_ac0e_a0999b1e5b83row0_col2\" class=\"data row0 col2\" >$97.28</td> \n",
       "        <td id=\"T_9dc2c068_daf3_11e7_ac0e_a0999b1e5b83row0_col3\" class=\"data row0 col3\" >$2.95</td> \n",
       "    </tr>    <tr> \n",
       "        <th id=\"T_9dc2c068_daf3_11e7_ac0e_a0999b1e5b83level0_row1\" class=\"row_heading level0 row1\" >10-14</th> \n",
       "        <td id=\"T_9dc2c068_daf3_11e7_ac0e_a0999b1e5b83row1_col0\" class=\"data row1 col0\" >$2.79</td> \n",
       "        <td id=\"T_9dc2c068_daf3_11e7_ac0e_a0999b1e5b83row1_col1\" class=\"data row1 col1\" >38</td> \n",
       "        <td id=\"T_9dc2c068_daf3_11e7_ac0e_a0999b1e5b83row1_col2\" class=\"data row1 col2\" >$105.91</td> \n",
       "        <td id=\"T_9dc2c068_daf3_11e7_ac0e_a0999b1e5b83row1_col3\" class=\"data row1 col3\" >$2.79</td> \n",
       "    </tr>    <tr> \n",
       "        <th id=\"T_9dc2c068_daf3_11e7_ac0e_a0999b1e5b83level0_row2\" class=\"row_heading level0 row2\" >15-19</th> \n",
       "        <td id=\"T_9dc2c068_daf3_11e7_ac0e_a0999b1e5b83row2_col0\" class=\"data row2 col0\" >$2.89</td> \n",
       "        <td id=\"T_9dc2c068_daf3_11e7_ac0e_a0999b1e5b83row2_col1\" class=\"data row2 col1\" >144</td> \n",
       "        <td id=\"T_9dc2c068_daf3_11e7_ac0e_a0999b1e5b83row2_col2\" class=\"data row2 col2\" >$416.83</td> \n",
       "        <td id=\"T_9dc2c068_daf3_11e7_ac0e_a0999b1e5b83row2_col3\" class=\"data row2 col3\" >$2.89</td> \n",
       "    </tr>    <tr> \n",
       "        <th id=\"T_9dc2c068_daf3_11e7_ac0e_a0999b1e5b83level0_row3\" class=\"row_heading level0 row3\" >20-24</th> \n",
       "        <td id=\"T_9dc2c068_daf3_11e7_ac0e_a0999b1e5b83row3_col0\" class=\"data row3 col0\" >$2.92</td> \n",
       "        <td id=\"T_9dc2c068_daf3_11e7_ac0e_a0999b1e5b83row3_col1\" class=\"data row3 col1\" >372</td> \n",
       "        <td id=\"T_9dc2c068_daf3_11e7_ac0e_a0999b1e5b83row3_col2\" class=\"data row3 col2\" >$1087.66</td> \n",
       "        <td id=\"T_9dc2c068_daf3_11e7_ac0e_a0999b1e5b83row3_col3\" class=\"data row3 col3\" >$2.92</td> \n",
       "    </tr>    <tr> \n",
       "        <th id=\"T_9dc2c068_daf3_11e7_ac0e_a0999b1e5b83level0_row4\" class=\"row_heading level0 row4\" >25-29</th> \n",
       "        <td id=\"T_9dc2c068_daf3_11e7_ac0e_a0999b1e5b83row4_col0\" class=\"data row4 col0\" >$2.96</td> \n",
       "        <td id=\"T_9dc2c068_daf3_11e7_ac0e_a0999b1e5b83row4_col1\" class=\"data row4 col1\" >134</td> \n",
       "        <td id=\"T_9dc2c068_daf3_11e7_ac0e_a0999b1e5b83row4_col2\" class=\"data row4 col2\" >$396.44</td> \n",
       "        <td id=\"T_9dc2c068_daf3_11e7_ac0e_a0999b1e5b83row4_col3\" class=\"data row4 col3\" >$2.96</td> \n",
       "    </tr>    <tr> \n",
       "        <th id=\"T_9dc2c068_daf3_11e7_ac0e_a0999b1e5b83level0_row5\" class=\"row_heading level0 row5\" >30-34</th> \n",
       "        <td id=\"T_9dc2c068_daf3_11e7_ac0e_a0999b1e5b83row5_col0\" class=\"data row5 col0\" >$2.97</td> \n",
       "        <td id=\"T_9dc2c068_daf3_11e7_ac0e_a0999b1e5b83row5_col1\" class=\"data row5 col1\" >71</td> \n",
       "        <td id=\"T_9dc2c068_daf3_11e7_ac0e_a0999b1e5b83row5_col2\" class=\"data row5 col2\" >$211.14</td> \n",
       "        <td id=\"T_9dc2c068_daf3_11e7_ac0e_a0999b1e5b83row5_col3\" class=\"data row5 col3\" >$2.97</td> \n",
       "    </tr>    <tr> \n",
       "        <th id=\"T_9dc2c068_daf3_11e7_ac0e_a0999b1e5b83level0_row6\" class=\"row_heading level0 row6\" >35-39</th> \n",
       "        <td id=\"T_9dc2c068_daf3_11e7_ac0e_a0999b1e5b83row6_col0\" class=\"data row6 col0\" >$2.93</td> \n",
       "        <td id=\"T_9dc2c068_daf3_11e7_ac0e_a0999b1e5b83row6_col1\" class=\"data row6 col1\" >48</td> \n",
       "        <td id=\"T_9dc2c068_daf3_11e7_ac0e_a0999b1e5b83row6_col2\" class=\"data row6 col2\" >$140.77</td> \n",
       "        <td id=\"T_9dc2c068_daf3_11e7_ac0e_a0999b1e5b83row6_col3\" class=\"data row6 col3\" >$2.93</td> \n",
       "    </tr>    <tr> \n",
       "        <th id=\"T_9dc2c068_daf3_11e7_ac0e_a0999b1e5b83level0_row7\" class=\"row_heading level0 row7\" >40+</th> \n",
       "        <td id=\"T_9dc2c068_daf3_11e7_ac0e_a0999b1e5b83row7_col0\" class=\"data row7 col0\" >$3.24</td> \n",
       "        <td id=\"T_9dc2c068_daf3_11e7_ac0e_a0999b1e5b83row7_col1\" class=\"data row7 col1\" >18</td> \n",
       "        <td id=\"T_9dc2c068_daf3_11e7_ac0e_a0999b1e5b83row7_col2\" class=\"data row7 col2\" >$58.40</td> \n",
       "        <td id=\"T_9dc2c068_daf3_11e7_ac0e_a0999b1e5b83row7_col3\" class=\"data row7 col3\" >$3.24</td> \n",
       "    </tr></tbody> \n",
       "</table> "
      ],
      "text/plain": [
       "<pandas.io.formats.style.Styler at 0x1104dd780>"
      ]
     },
     "execution_count": 24,
     "metadata": {},
     "output_type": "execute_result"
    }
   ],
   "source": [
    "raw = purchase_summary(age_groupby)\n",
    "format_summary(raw)"
   ]
  },
  {
   "cell_type": "markdown",
   "metadata": {},
   "source": [
    "## Top Spenders\n",
    "\n",
    "Identify the the top 5 spenders in the game by total purchase value, then list (in a table):\n",
    " - SN\n",
    " - Purchase Count\n",
    " - Average Purchase Price\n",
    " - Total Purchase Value "
   ]
  },
  {
   "cell_type": "code",
   "execution_count": 25,
   "metadata": {},
   "outputs": [],
   "source": [
    "# Group data by screenname\n",
    "sn_group = alldata.groupby('SN')"
   ]
  },
  {
   "cell_type": "code",
   "execution_count": 26,
   "metadata": {},
   "outputs": [],
   "source": [
    "# Total purchases by screenname\n",
    "purchase_totals = sn_group.Price.sum()"
   ]
  },
  {
   "cell_type": "code",
   "execution_count": 27,
   "metadata": {},
   "outputs": [],
   "source": [
    "# Cast result as dataframe\n",
    "purchase_totals_df = pd.DataFrame(purchase_totals)"
   ]
  },
  {
   "cell_type": "code",
   "execution_count": 28,
   "metadata": {},
   "outputs": [],
   "source": [
    "# Rename totalled column\n",
    "purchase_totals_df = purchase_totals_df.reset_index()\n",
    "purchase_totals_df = purchase_totals_df.rename(columns={'Price':'User Purchase Total'})"
   ]
  },
  {
   "cell_type": "code",
   "execution_count": 29,
   "metadata": {},
   "outputs": [],
   "source": [
    "# Merge results to original dataframe\n",
    "alldata = alldata.merge(purchase_totals_df, on='SN', how='outer')"
   ]
  },
  {
   "cell_type": "code",
   "execution_count": 30,
   "metadata": {},
   "outputs": [
    {
     "data": {
      "text/html": [
       "<div>\n",
       "<style scoped>\n",
       "    .dataframe tbody tr th:only-of-type {\n",
       "        vertical-align: middle;\n",
       "    }\n",
       "\n",
       "    .dataframe tbody tr th {\n",
       "        vertical-align: top;\n",
       "    }\n",
       "\n",
       "    .dataframe thead th {\n",
       "        text-align: right;\n",
       "    }\n",
       "</style>\n",
       "<table border=\"1\" class=\"dataframe\">\n",
       "  <thead>\n",
       "    <tr style=\"text-align: right;\">\n",
       "      <th></th>\n",
       "      <th>Age</th>\n",
       "      <th>Gender</th>\n",
       "      <th>Item ID</th>\n",
       "      <th>Item Name</th>\n",
       "      <th>Price</th>\n",
       "      <th>SN</th>\n",
       "      <th>Age Group</th>\n",
       "      <th>User Purchase Total</th>\n",
       "    </tr>\n",
       "  </thead>\n",
       "  <tbody>\n",
       "    <tr>\n",
       "      <th>0</th>\n",
       "      <td>38</td>\n",
       "      <td>Male</td>\n",
       "      <td>165</td>\n",
       "      <td>Bone Crushing Silver Skewer</td>\n",
       "      <td>3.37</td>\n",
       "      <td>Aelalis34</td>\n",
       "      <td>35-39</td>\n",
       "      <td>5.06</td>\n",
       "    </tr>\n",
       "    <tr>\n",
       "      <th>1</th>\n",
       "      <td>38</td>\n",
       "      <td>Male</td>\n",
       "      <td>172</td>\n",
       "      <td>Blade of the Grave</td>\n",
       "      <td>1.69</td>\n",
       "      <td>Aelalis34</td>\n",
       "      <td>35-39</td>\n",
       "      <td>5.06</td>\n",
       "    </tr>\n",
       "    <tr>\n",
       "      <th>2</th>\n",
       "      <td>21</td>\n",
       "      <td>Male</td>\n",
       "      <td>119</td>\n",
       "      <td>Stormbringer, Dark Blade of Ending Misery</td>\n",
       "      <td>2.32</td>\n",
       "      <td>Eolo46</td>\n",
       "      <td>20-24</td>\n",
       "      <td>2.32</td>\n",
       "    </tr>\n",
       "    <tr>\n",
       "      <th>3</th>\n",
       "      <td>34</td>\n",
       "      <td>Male</td>\n",
       "      <td>174</td>\n",
       "      <td>Primitive Blade</td>\n",
       "      <td>2.46</td>\n",
       "      <td>Assastnya25</td>\n",
       "      <td>30-34</td>\n",
       "      <td>4.75</td>\n",
       "    </tr>\n",
       "    <tr>\n",
       "      <th>4</th>\n",
       "      <td>34</td>\n",
       "      <td>Male</td>\n",
       "      <td>106</td>\n",
       "      <td>Crying Steel Sickle</td>\n",
       "      <td>2.29</td>\n",
       "      <td>Assastnya25</td>\n",
       "      <td>30-34</td>\n",
       "      <td>4.75</td>\n",
       "    </tr>\n",
       "  </tbody>\n",
       "</table>\n",
       "</div>"
      ],
      "text/plain": [
       "   Age Gender  Item ID                                  Item Name  Price  \\\n",
       "0   38   Male      165                Bone Crushing Silver Skewer   3.37   \n",
       "1   38   Male      172                         Blade of the Grave   1.69   \n",
       "2   21   Male      119  Stormbringer, Dark Blade of Ending Misery   2.32   \n",
       "3   34   Male      174                            Primitive Blade   2.46   \n",
       "4   34   Male      106                        Crying Steel Sickle   2.29   \n",
       "\n",
       "            SN Age Group  User Purchase Total  \n",
       "0    Aelalis34     35-39                 5.06  \n",
       "1    Aelalis34     35-39                 5.06  \n",
       "2       Eolo46     20-24                 2.32  \n",
       "3  Assastnya25     30-34                 4.75  \n",
       "4  Assastnya25     30-34                 4.75  "
      ]
     },
     "execution_count": 30,
     "metadata": {},
     "output_type": "execute_result"
    }
   ],
   "source": [
    "alldata.head()"
   ]
  },
  {
   "cell_type": "code",
   "execution_count": 31,
   "metadata": {},
   "outputs": [
    {
     "data": {
      "text/html": [
       "<div>\n",
       "<style scoped>\n",
       "    .dataframe tbody tr th:only-of-type {\n",
       "        vertical-align: middle;\n",
       "    }\n",
       "\n",
       "    .dataframe tbody tr th {\n",
       "        vertical-align: top;\n",
       "    }\n",
       "\n",
       "    .dataframe thead th {\n",
       "        text-align: right;\n",
       "    }\n",
       "</style>\n",
       "<table border=\"1\" class=\"dataframe\">\n",
       "  <thead>\n",
       "    <tr style=\"text-align: right;\">\n",
       "      <th></th>\n",
       "      <th>Age</th>\n",
       "      <th>Gender</th>\n",
       "      <th>Item ID</th>\n",
       "      <th>Item Name</th>\n",
       "      <th>Price</th>\n",
       "      <th>SN</th>\n",
       "      <th>Age Group</th>\n",
       "      <th>User Purchase Total</th>\n",
       "    </tr>\n",
       "  </thead>\n",
       "  <tbody>\n",
       "    <tr>\n",
       "      <th>132</th>\n",
       "      <td>29</td>\n",
       "      <td>Male</td>\n",
       "      <td>144</td>\n",
       "      <td>Blood Infused Guardian</td>\n",
       "      <td>2.86</td>\n",
       "      <td>Undirrala66</td>\n",
       "      <td>25-29</td>\n",
       "      <td>17.06</td>\n",
       "    </tr>\n",
       "    <tr>\n",
       "      <th>135</th>\n",
       "      <td>29</td>\n",
       "      <td>Male</td>\n",
       "      <td>18</td>\n",
       "      <td>Torchlight, Bond of Storms</td>\n",
       "      <td>1.77</td>\n",
       "      <td>Undirrala66</td>\n",
       "      <td>25-29</td>\n",
       "      <td>17.06</td>\n",
       "    </tr>\n",
       "    <tr>\n",
       "      <th>134</th>\n",
       "      <td>29</td>\n",
       "      <td>Male</td>\n",
       "      <td>62</td>\n",
       "      <td>Piece Maker</td>\n",
       "      <td>4.36</td>\n",
       "      <td>Undirrala66</td>\n",
       "      <td>25-29</td>\n",
       "      <td>17.06</td>\n",
       "    </tr>\n",
       "    <tr>\n",
       "      <th>133</th>\n",
       "      <td>29</td>\n",
       "      <td>Male</td>\n",
       "      <td>115</td>\n",
       "      <td>Spectral Diamond Doomblade</td>\n",
       "      <td>4.25</td>\n",
       "      <td>Undirrala66</td>\n",
       "      <td>25-29</td>\n",
       "      <td>17.06</td>\n",
       "    </tr>\n",
       "    <tr>\n",
       "      <th>136</th>\n",
       "      <td>29</td>\n",
       "      <td>Male</td>\n",
       "      <td>133</td>\n",
       "      <td>Faith's Scimitar</td>\n",
       "      <td>3.82</td>\n",
       "      <td>Undirrala66</td>\n",
       "      <td>25-29</td>\n",
       "      <td>17.06</td>\n",
       "    </tr>\n",
       "  </tbody>\n",
       "</table>\n",
       "</div>"
      ],
      "text/plain": [
       "     Age Gender  Item ID                   Item Name  Price           SN  \\\n",
       "132   29   Male      144      Blood Infused Guardian   2.86  Undirrala66   \n",
       "135   29   Male       18  Torchlight, Bond of Storms   1.77  Undirrala66   \n",
       "134   29   Male       62                 Piece Maker   4.36  Undirrala66   \n",
       "133   29   Male      115  Spectral Diamond Doomblade   4.25  Undirrala66   \n",
       "136   29   Male      133            Faith's Scimitar   3.82  Undirrala66   \n",
       "\n",
       "    Age Group  User Purchase Total  \n",
       "132     25-29                17.06  \n",
       "135     25-29                17.06  \n",
       "134     25-29                17.06  \n",
       "133     25-29                17.06  \n",
       "136     25-29                17.06  "
      ]
     },
     "execution_count": 31,
     "metadata": {},
     "output_type": "execute_result"
    }
   ],
   "source": [
    "# Sort merged results, highest spender will be on top\n",
    "sorted = alldata.sort_values(by='User Purchase Total', ascending=False)\n",
    "sorted.head()"
   ]
  },
  {
   "cell_type": "code",
   "execution_count": 32,
   "metadata": {},
   "outputs": [],
   "source": [
    "# Find sum of dollars spent by each player, convert this series to dataframe\n",
    "\n",
    "dollars_spent = pd.DataFrame(sn_group.Price.sum())\n",
    "\n",
    "# Sort the dataframe by money spent\n",
    "\n",
    "by_spent = dollars_spent.sort_values(by='Price', ascending=False)\n",
    "\n",
    "# Take the top 5 and rename column\n",
    "\n",
    "top_spenders = by_spent.head(5)\n",
    "top_spenders = top_spenders.rename(columns={'Price':'Purchase Total'})\n",
    "top_spenders = top_spenders.reset_index()"
   ]
  },
  {
   "cell_type": "code",
   "execution_count": 33,
   "metadata": {},
   "outputs": [],
   "source": [
    "SNlist = top_spenders.SN.unique()\n",
    "SNlist\n",
    "# return dataframe with only these users for summary\n",
    "\n",
    "top_spender_frame = alldata[(alldata['SN'] == SNlist[0])|\n",
    "                            (alldata['SN'] == SNlist[1])|\n",
    "                            (alldata['SN'] == SNlist[2])|\n",
    "                            (alldata['SN'] == SNlist[3])|\n",
    "                            (alldata['SN'] == SNlist[4])]\n"
   ]
  },
  {
   "cell_type": "code",
   "execution_count": 34,
   "metadata": {},
   "outputs": [],
   "source": [
    "small_group = top_spender_frame.groupby('SN')"
   ]
  },
  {
   "cell_type": "code",
   "execution_count": 35,
   "metadata": {},
   "outputs": [
    {
     "data": {
      "text/html": [
       "<style  type=\"text/css\" >\n",
       "</style>  \n",
       "<table id=\"T_9dd26f18_daf3_11e7_a8f9_a0999b1e5b83\" > \n",
       "<thead>    <tr> \n",
       "        <th class=\"blank level0\" ></th> \n",
       "        <th class=\"col_heading level0 col0\" >Average Purchase Price</th> \n",
       "        <th class=\"col_heading level0 col1\" >Purchase Count</th> \n",
       "        <th class=\"col_heading level0 col2\" >Total Purchase Value</th> \n",
       "        <th class=\"col_heading level0 col3\" >Normalized Totals</th> \n",
       "    </tr>    <tr> \n",
       "        <th class=\"index_name level0\" >SN</th> \n",
       "        <th class=\"blank\" ></th> \n",
       "        <th class=\"blank\" ></th> \n",
       "        <th class=\"blank\" ></th> \n",
       "        <th class=\"blank\" ></th> \n",
       "    </tr></thead> \n",
       "<tbody>    <tr> \n",
       "        <th id=\"T_9dd26f18_daf3_11e7_a8f9_a0999b1e5b83level0_row0\" class=\"row_heading level0 row0\" >Undirrala66</th> \n",
       "        <td id=\"T_9dd26f18_daf3_11e7_a8f9_a0999b1e5b83row0_col0\" class=\"data row0 col0\" >$3.41</td> \n",
       "        <td id=\"T_9dd26f18_daf3_11e7_a8f9_a0999b1e5b83row0_col1\" class=\"data row0 col1\" >5</td> \n",
       "        <td id=\"T_9dd26f18_daf3_11e7_a8f9_a0999b1e5b83row0_col2\" class=\"data row0 col2\" >$17.06</td> \n",
       "        <td id=\"T_9dd26f18_daf3_11e7_a8f9_a0999b1e5b83row0_col3\" class=\"data row0 col3\" >$3.41</td> \n",
       "    </tr>    <tr> \n",
       "        <th id=\"T_9dd26f18_daf3_11e7_a8f9_a0999b1e5b83level0_row1\" class=\"row_heading level0 row1\" >Aerithllora36</th> \n",
       "        <td id=\"T_9dd26f18_daf3_11e7_a8f9_a0999b1e5b83row1_col0\" class=\"data row1 col0\" >$3.77</td> \n",
       "        <td id=\"T_9dd26f18_daf3_11e7_a8f9_a0999b1e5b83row1_col1\" class=\"data row1 col1\" >4</td> \n",
       "        <td id=\"T_9dd26f18_daf3_11e7_a8f9_a0999b1e5b83row1_col2\" class=\"data row1 col2\" >$15.10</td> \n",
       "        <td id=\"T_9dd26f18_daf3_11e7_a8f9_a0999b1e5b83row1_col3\" class=\"data row1 col3\" >$3.77</td> \n",
       "    </tr>    <tr> \n",
       "        <th id=\"T_9dd26f18_daf3_11e7_a8f9_a0999b1e5b83level0_row2\" class=\"row_heading level0 row2\" >Saedue76</th> \n",
       "        <td id=\"T_9dd26f18_daf3_11e7_a8f9_a0999b1e5b83row2_col0\" class=\"data row2 col0\" >$3.39</td> \n",
       "        <td id=\"T_9dd26f18_daf3_11e7_a8f9_a0999b1e5b83row2_col1\" class=\"data row2 col1\" >4</td> \n",
       "        <td id=\"T_9dd26f18_daf3_11e7_a8f9_a0999b1e5b83row2_col2\" class=\"data row2 col2\" >$13.56</td> \n",
       "        <td id=\"T_9dd26f18_daf3_11e7_a8f9_a0999b1e5b83row2_col3\" class=\"data row2 col3\" >$3.39</td> \n",
       "    </tr>    <tr> \n",
       "        <th id=\"T_9dd26f18_daf3_11e7_a8f9_a0999b1e5b83level0_row3\" class=\"row_heading level0 row3\" >Sondim43</th> \n",
       "        <td id=\"T_9dd26f18_daf3_11e7_a8f9_a0999b1e5b83row3_col0\" class=\"data row3 col0\" >$3.25</td> \n",
       "        <td id=\"T_9dd26f18_daf3_11e7_a8f9_a0999b1e5b83row3_col1\" class=\"data row3 col1\" >4</td> \n",
       "        <td id=\"T_9dd26f18_daf3_11e7_a8f9_a0999b1e5b83row3_col2\" class=\"data row3 col2\" >$13.02</td> \n",
       "        <td id=\"T_9dd26f18_daf3_11e7_a8f9_a0999b1e5b83row3_col3\" class=\"data row3 col3\" >$3.25</td> \n",
       "    </tr>    <tr> \n",
       "        <th id=\"T_9dd26f18_daf3_11e7_a8f9_a0999b1e5b83level0_row4\" class=\"row_heading level0 row4\" >Mindimnya67</th> \n",
       "        <td id=\"T_9dd26f18_daf3_11e7_a8f9_a0999b1e5b83row4_col0\" class=\"data row4 col0\" >$3.18</td> \n",
       "        <td id=\"T_9dd26f18_daf3_11e7_a8f9_a0999b1e5b83row4_col1\" class=\"data row4 col1\" >4</td> \n",
       "        <td id=\"T_9dd26f18_daf3_11e7_a8f9_a0999b1e5b83row4_col2\" class=\"data row4 col2\" >$12.74</td> \n",
       "        <td id=\"T_9dd26f18_daf3_11e7_a8f9_a0999b1e5b83row4_col3\" class=\"data row4 col3\" >$3.18</td> \n",
       "    </tr></tbody> \n",
       "</table> "
      ],
      "text/plain": [
       "<pandas.io.formats.style.Styler at 0x1104e2dd8>"
      ]
     },
     "execution_count": 35,
     "metadata": {},
     "output_type": "execute_result"
    }
   ],
   "source": [
    "raw = purchase_summary(small_group)\n",
    "now_sorted = raw.sort_values(by='Total Purchase Value', ascending=False)\n",
    "format_summary(now_sorted)"
   ]
  },
  {
   "cell_type": "markdown",
   "metadata": {},
   "source": [
    "## Most Popular Items\n",
    "\n",
    "Identify the 5 most popular items by purchase count, then list (in a table):\n",
    " - Item ID\n",
    " - Item Name\n",
    " - Purchase Count\n",
    " - Item Price\n",
    " - Total Purchase Value"
   ]
  },
  {
   "cell_type": "code",
   "execution_count": 36,
   "metadata": {},
   "outputs": [],
   "source": [
    "itemgroup = alldata.groupby('Item ID')"
   ]
  },
  {
   "cell_type": "code",
   "execution_count": 37,
   "metadata": {},
   "outputs": [],
   "source": [
    "# Age column was chosen to be basis of count, could have been any column\n",
    "itempopframe = pd.DataFrame(itemgroup.Age.count())"
   ]
  },
  {
   "cell_type": "code",
   "execution_count": 38,
   "metadata": {},
   "outputs": [],
   "source": [
    "# Rename count column to reflect intended calculation\n",
    "itempopframe = itempopframe.rename(columns={'Age':'Item Total Uses'})"
   ]
  },
  {
   "cell_type": "code",
   "execution_count": 39,
   "metadata": {},
   "outputs": [],
   "source": [
    "itempopframe = itempopframe.reset_index()"
   ]
  },
  {
   "cell_type": "code",
   "execution_count": 40,
   "metadata": {},
   "outputs": [],
   "source": [
    "itempopframe = itempopframe.sort_values(by='Item Total Uses', ascending=False)"
   ]
  },
  {
   "cell_type": "code",
   "execution_count": 41,
   "metadata": {},
   "outputs": [
    {
     "data": {
      "text/html": [
       "<div>\n",
       "<style scoped>\n",
       "    .dataframe tbody tr th:only-of-type {\n",
       "        vertical-align: middle;\n",
       "    }\n",
       "\n",
       "    .dataframe tbody tr th {\n",
       "        vertical-align: top;\n",
       "    }\n",
       "\n",
       "    .dataframe thead th {\n",
       "        text-align: right;\n",
       "    }\n",
       "</style>\n",
       "<table border=\"1\" class=\"dataframe\">\n",
       "  <thead>\n",
       "    <tr style=\"text-align: right;\">\n",
       "      <th></th>\n",
       "      <th>Item ID</th>\n",
       "      <th>Item Total Uses</th>\n",
       "    </tr>\n",
       "  </thead>\n",
       "  <tbody>\n",
       "    <tr>\n",
       "      <th>84</th>\n",
       "      <td>84</td>\n",
       "      <td>12</td>\n",
       "    </tr>\n",
       "    <tr>\n",
       "      <th>39</th>\n",
       "      <td>39</td>\n",
       "      <td>11</td>\n",
       "    </tr>\n",
       "    <tr>\n",
       "      <th>31</th>\n",
       "      <td>31</td>\n",
       "      <td>10</td>\n",
       "    </tr>\n",
       "    <tr>\n",
       "      <th>44</th>\n",
       "      <td>44</td>\n",
       "      <td>9</td>\n",
       "    </tr>\n",
       "    <tr>\n",
       "      <th>154</th>\n",
       "      <td>154</td>\n",
       "      <td>9</td>\n",
       "    </tr>\n",
       "  </tbody>\n",
       "</table>\n",
       "</div>"
      ],
      "text/plain": [
       "     Item ID  Item Total Uses\n",
       "84        84               12\n",
       "39        39               11\n",
       "31        31               10\n",
       "44        44                9\n",
       "154      154                9"
      ]
     },
     "execution_count": 41,
     "metadata": {},
     "output_type": "execute_result"
    }
   ],
   "source": [
    "itempopframe.head()"
   ]
  },
  {
   "cell_type": "code",
   "execution_count": 42,
   "metadata": {},
   "outputs": [],
   "source": [
    "# extract list of unique item IDs for filtering original data\n",
    "itemlist = itempopframe['Item ID'].unique()\n",
    "\n",
    "# return dataframe with only these items for summary\n",
    "\n",
    "top_item_frame = alldata[(alldata['Item ID'] == itemlist[0])|\n",
    "                         (alldata['Item ID'] == itemlist[1])|\n",
    "                         (alldata['Item ID'] == itemlist[2])|\n",
    "                         (alldata['Item ID'] == itemlist[3])|\n",
    "                         (alldata['Item ID'] == itemlist[4])]"
   ]
  },
  {
   "cell_type": "code",
   "execution_count": 43,
   "metadata": {},
   "outputs": [],
   "source": [
    "# re-groupby with dataframe containing only popular items\n",
    "smallitemgroup = top_item_frame.groupby('Item ID')"
   ]
  },
  {
   "cell_type": "code",
   "execution_count": 44,
   "metadata": {},
   "outputs": [],
   "source": [
    "smallitemgroup['User Purchase Total'].sum()\n",
    "\n",
    "# generate summary dataframe by performing functions on groupby object, order is preserved\n",
    "items_aggregate = pd.DataFrame({'Item Name': smallitemgroup['Item Name'].unique().tolist(),\n",
    "                                'Purchase Count': smallitemgroup['Age'].count(),\n",
    "                                'Item Price': smallitemgroup['Price'].mean(),\n",
    "                                'Total Purchase Value': smallitemgroup['Price'].sum()})"
   ]
  },
  {
   "cell_type": "code",
   "execution_count": 45,
   "metadata": {},
   "outputs": [
    {
     "data": {
      "text/html": [
       "<div>\n",
       "<style scoped>\n",
       "    .dataframe tbody tr th:only-of-type {\n",
       "        vertical-align: middle;\n",
       "    }\n",
       "\n",
       "    .dataframe tbody tr th {\n",
       "        vertical-align: top;\n",
       "    }\n",
       "\n",
       "    .dataframe thead th {\n",
       "        text-align: right;\n",
       "    }\n",
       "</style>\n",
       "<table border=\"1\" class=\"dataframe\">\n",
       "  <thead>\n",
       "    <tr style=\"text-align: right;\">\n",
       "      <th></th>\n",
       "      <th>Item Name</th>\n",
       "      <th>Item Price</th>\n",
       "      <th>Purchase Count</th>\n",
       "      <th>Total Purchase Value</th>\n",
       "    </tr>\n",
       "    <tr>\n",
       "      <th>Item ID</th>\n",
       "      <th></th>\n",
       "      <th></th>\n",
       "      <th></th>\n",
       "      <th></th>\n",
       "    </tr>\n",
       "  </thead>\n",
       "  <tbody>\n",
       "    <tr>\n",
       "      <th>84</th>\n",
       "      <td>[Arcane Gem]</td>\n",
       "      <td>2.445000</td>\n",
       "      <td>12</td>\n",
       "      <td>29.34</td>\n",
       "    </tr>\n",
       "    <tr>\n",
       "      <th>39</th>\n",
       "      <td>[Betrayal, Whisper of Grieving Widows]</td>\n",
       "      <td>2.350000</td>\n",
       "      <td>11</td>\n",
       "      <td>25.85</td>\n",
       "    </tr>\n",
       "    <tr>\n",
       "      <th>31</th>\n",
       "      <td>[Trickster]</td>\n",
       "      <td>2.322000</td>\n",
       "      <td>10</td>\n",
       "      <td>23.22</td>\n",
       "    </tr>\n",
       "    <tr>\n",
       "      <th>44</th>\n",
       "      <td>[Bonecarvin Battle Axe]</td>\n",
       "      <td>2.671111</td>\n",
       "      <td>9</td>\n",
       "      <td>24.04</td>\n",
       "    </tr>\n",
       "    <tr>\n",
       "      <th>154</th>\n",
       "      <td>[Feral Katana]</td>\n",
       "      <td>2.616667</td>\n",
       "      <td>9</td>\n",
       "      <td>23.55</td>\n",
       "    </tr>\n",
       "  </tbody>\n",
       "</table>\n",
       "</div>"
      ],
      "text/plain": [
       "                                      Item Name  Item Price  Purchase Count  \\\n",
       "Item ID                                                                       \n",
       "84                                 [Arcane Gem]    2.445000              12   \n",
       "39       [Betrayal, Whisper of Grieving Widows]    2.350000              11   \n",
       "31                                  [Trickster]    2.322000              10   \n",
       "44                      [Bonecarvin Battle Axe]    2.671111               9   \n",
       "154                              [Feral Katana]    2.616667               9   \n",
       "\n",
       "         Total Purchase Value  \n",
       "Item ID                        \n",
       "84                      29.34  \n",
       "39                      25.85  \n",
       "31                      23.22  \n",
       "44                      24.04  \n",
       "154                     23.55  "
      ]
     },
     "execution_count": 45,
     "metadata": {},
     "output_type": "execute_result"
    }
   ],
   "source": [
    "# sort dataframe\n",
    "items_aggregate.sort_values(by='Purchase Count', ascending=False)"
   ]
  },
  {
   "cell_type": "markdown",
   "metadata": {},
   "source": [
    "## Most Profitable Items\n",
    "\n",
    "Identify the 5 most profitable items by total purchase value, then list (in a table):\n",
    " - Item ID\n",
    " - Item Name\n",
    " - Purchase Count\n",
    " - Item Price\n",
    " - Total Purchase Value"
   ]
  },
  {
   "cell_type": "code",
   "execution_count": 46,
   "metadata": {},
   "outputs": [],
   "source": [
    "# groupby item ID, obtain sum of price (per item), cast result as dataframe for merge (JOIN)\n",
    "grouped_items = alldata.groupby('Item ID')\n",
    "idtots = pd.DataFrame(grouped_items.Price.sum())\n",
    "idtots = idtots.reset_index()\n",
    "idtots = idtots.rename(columns={'Price':'Item Total Purchase Value'})"
   ]
  },
  {
   "cell_type": "code",
   "execution_count": 47,
   "metadata": {},
   "outputs": [],
   "source": [
    "# join result to original dataframe\n",
    "alldata = pd.merge(alldata, idtots, on='Item ID', how='outer')"
   ]
  },
  {
   "cell_type": "code",
   "execution_count": 48,
   "metadata": {},
   "outputs": [
    {
     "data": {
      "text/html": [
       "<div>\n",
       "<style scoped>\n",
       "    .dataframe tbody tr th:only-of-type {\n",
       "        vertical-align: middle;\n",
       "    }\n",
       "\n",
       "    .dataframe tbody tr th {\n",
       "        vertical-align: top;\n",
       "    }\n",
       "\n",
       "    .dataframe thead th {\n",
       "        text-align: right;\n",
       "    }\n",
       "</style>\n",
       "<table border=\"1\" class=\"dataframe\">\n",
       "  <thead>\n",
       "    <tr style=\"text-align: right;\">\n",
       "      <th></th>\n",
       "      <th>Age</th>\n",
       "      <th>Gender</th>\n",
       "      <th>Item ID</th>\n",
       "      <th>Item Name</th>\n",
       "      <th>Price</th>\n",
       "      <th>SN</th>\n",
       "      <th>Age Group</th>\n",
       "      <th>User Purchase Total</th>\n",
       "      <th>Item Total Purchase Value</th>\n",
       "    </tr>\n",
       "  </thead>\n",
       "  <tbody>\n",
       "    <tr>\n",
       "      <th>0</th>\n",
       "      <td>38</td>\n",
       "      <td>Male</td>\n",
       "      <td>165</td>\n",
       "      <td>Bone Crushing Silver Skewer</td>\n",
       "      <td>3.37</td>\n",
       "      <td>Aelalis34</td>\n",
       "      <td>35-39</td>\n",
       "      <td>5.06</td>\n",
       "      <td>10.11</td>\n",
       "    </tr>\n",
       "    <tr>\n",
       "      <th>1</th>\n",
       "      <td>24</td>\n",
       "      <td>Male</td>\n",
       "      <td>165</td>\n",
       "      <td>Bone Crushing Silver Skewer</td>\n",
       "      <td>3.37</td>\n",
       "      <td>Chanirrala39</td>\n",
       "      <td>20-24</td>\n",
       "      <td>5.56</td>\n",
       "      <td>10.11</td>\n",
       "    </tr>\n",
       "    <tr>\n",
       "      <th>2</th>\n",
       "      <td>25</td>\n",
       "      <td>Male</td>\n",
       "      <td>165</td>\n",
       "      <td>Bone Crushing Silver Skewer</td>\n",
       "      <td>3.37</td>\n",
       "      <td>Raelly43</td>\n",
       "      <td>25-29</td>\n",
       "      <td>3.37</td>\n",
       "      <td>10.11</td>\n",
       "    </tr>\n",
       "    <tr>\n",
       "      <th>3</th>\n",
       "      <td>38</td>\n",
       "      <td>Male</td>\n",
       "      <td>172</td>\n",
       "      <td>Blade of the Grave</td>\n",
       "      <td>1.69</td>\n",
       "      <td>Aelalis34</td>\n",
       "      <td>35-39</td>\n",
       "      <td>5.06</td>\n",
       "      <td>14.54</td>\n",
       "    </tr>\n",
       "    <tr>\n",
       "      <th>4</th>\n",
       "      <td>16</td>\n",
       "      <td>Male</td>\n",
       "      <td>172</td>\n",
       "      <td>Blade of the Grave</td>\n",
       "      <td>2.71</td>\n",
       "      <td>Shaidanu32</td>\n",
       "      <td>15-19</td>\n",
       "      <td>10.96</td>\n",
       "      <td>14.54</td>\n",
       "    </tr>\n",
       "  </tbody>\n",
       "</table>\n",
       "</div>"
      ],
      "text/plain": [
       "   Age Gender  Item ID                    Item Name  Price            SN  \\\n",
       "0   38   Male      165  Bone Crushing Silver Skewer   3.37     Aelalis34   \n",
       "1   24   Male      165  Bone Crushing Silver Skewer   3.37  Chanirrala39   \n",
       "2   25   Male      165  Bone Crushing Silver Skewer   3.37      Raelly43   \n",
       "3   38   Male      172           Blade of the Grave   1.69     Aelalis34   \n",
       "4   16   Male      172           Blade of the Grave   2.71    Shaidanu32   \n",
       "\n",
       "  Age Group  User Purchase Total  Item Total Purchase Value  \n",
       "0     35-39                 5.06                      10.11  \n",
       "1     20-24                 5.56                      10.11  \n",
       "2     25-29                 3.37                      10.11  \n",
       "3     35-39                 5.06                      14.54  \n",
       "4     15-19                10.96                      14.54  "
      ]
     },
     "execution_count": 48,
     "metadata": {},
     "output_type": "execute_result"
    }
   ],
   "source": [
    "alldata.head()"
   ]
  },
  {
   "cell_type": "code",
   "execution_count": 50,
   "metadata": {},
   "outputs": [],
   "source": [
    "# group on item id to prepare for summary\n",
    "itemgroup = alldata.groupby('Item ID')"
   ]
  },
  {
   "cell_type": "code",
   "execution_count": 51,
   "metadata": {},
   "outputs": [],
   "source": [
    "# generate summary dataframe\n",
    "resultframe = pd.DataFrame({'Item Name': itemgroup['Item Name'].unique(),\n",
    "                            'Purchase Count': itemgroup['Item Name'].count(),\n",
    "                            'Item Price': itemgroup['Price'].mean(),\n",
    "                            'Total Purchase Value': itemgroup['Price'].sum()})"
   ]
  },
  {
   "cell_type": "code",
   "execution_count": 53,
   "metadata": {},
   "outputs": [
    {
     "data": {
      "text/html": [
       "<div>\n",
       "<style scoped>\n",
       "    .dataframe tbody tr th:only-of-type {\n",
       "        vertical-align: middle;\n",
       "    }\n",
       "\n",
       "    .dataframe tbody tr th {\n",
       "        vertical-align: top;\n",
       "    }\n",
       "\n",
       "    .dataframe thead th {\n",
       "        text-align: right;\n",
       "    }\n",
       "</style>\n",
       "<table border=\"1\" class=\"dataframe\">\n",
       "  <thead>\n",
       "    <tr style=\"text-align: right;\">\n",
       "      <th></th>\n",
       "      <th>Item Name</th>\n",
       "      <th>Item Price</th>\n",
       "      <th>Purchase Count</th>\n",
       "      <th>Total Purchase Value</th>\n",
       "    </tr>\n",
       "    <tr>\n",
       "      <th>Item ID</th>\n",
       "      <th></th>\n",
       "      <th></th>\n",
       "      <th></th>\n",
       "      <th></th>\n",
       "    </tr>\n",
       "  </thead>\n",
       "  <tbody>\n",
       "    <tr>\n",
       "      <th>34</th>\n",
       "      <td>[Retribution Axe]</td>\n",
       "      <td>4.140</td>\n",
       "      <td>9</td>\n",
       "      <td>37.26</td>\n",
       "    </tr>\n",
       "    <tr>\n",
       "      <th>107</th>\n",
       "      <td>[Splitter, Foe Of Subtlety]</td>\n",
       "      <td>3.670</td>\n",
       "      <td>9</td>\n",
       "      <td>33.03</td>\n",
       "    </tr>\n",
       "    <tr>\n",
       "      <th>115</th>\n",
       "      <td>[Spectral Diamond Doomblade]</td>\n",
       "      <td>4.250</td>\n",
       "      <td>7</td>\n",
       "      <td>29.75</td>\n",
       "    </tr>\n",
       "    <tr>\n",
       "      <th>32</th>\n",
       "      <td>[Orenmir]</td>\n",
       "      <td>4.950</td>\n",
       "      <td>6</td>\n",
       "      <td>29.70</td>\n",
       "    </tr>\n",
       "    <tr>\n",
       "      <th>84</th>\n",
       "      <td>[Arcane Gem]</td>\n",
       "      <td>2.445</td>\n",
       "      <td>12</td>\n",
       "      <td>29.34</td>\n",
       "    </tr>\n",
       "  </tbody>\n",
       "</table>\n",
       "</div>"
      ],
      "text/plain": [
       "                            Item Name  Item Price  Purchase Count  \\\n",
       "Item ID                                                             \n",
       "34                  [Retribution Axe]       4.140               9   \n",
       "107       [Splitter, Foe Of Subtlety]       3.670               9   \n",
       "115      [Spectral Diamond Doomblade]       4.250               7   \n",
       "32                          [Orenmir]       4.950               6   \n",
       "84                       [Arcane Gem]       2.445              12   \n",
       "\n",
       "         Total Purchase Value  \n",
       "Item ID                        \n",
       "34                      37.26  \n",
       "107                     33.03  \n",
       "115                     29.75  \n",
       "32                      29.70  \n",
       "84                      29.34  "
      ]
     },
     "execution_count": 53,
     "metadata": {},
     "output_type": "execute_result"
    }
   ],
   "source": [
    "# sort resulting dataframe\n",
    "resultframe = resultframe.sort_values(by='Total Purchase Value', ascending=False)\n",
    "resultframe.head()"
   ]
  },
  {
   "cell_type": "markdown",
   "metadata": {},
   "source": [
    "## Observable trends:\n",
    "### 1: About 4 out of 5 users are male\n",
    "### 2: Users from 20-24 years of age spend the most on the platform, making up almost half of all sales\n",
    "### 3: While Arcane Gem is the most popular item, the Retribution Axe is the most profitable."
   ]
  },
  {
   "cell_type": "code",
   "execution_count": null,
   "metadata": {},
   "outputs": [],
   "source": []
  }
 ],
 "metadata": {
  "kernelspec": {
   "display_name": "Python 3",
   "language": "python",
   "name": "python3"
  },
  "language_info": {
   "codemirror_mode": {
    "name": "ipython",
    "version": 3
   },
   "file_extension": ".py",
   "mimetype": "text/x-python",
   "name": "python",
   "nbconvert_exporter": "python",
   "pygments_lexer": "ipython3",
   "version": "3.6.3"
  }
 },
 "nbformat": 4,
 "nbformat_minor": 2
}
